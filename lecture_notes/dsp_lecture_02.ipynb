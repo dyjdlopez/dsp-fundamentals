{
 "cells": [
  {
   "cell_type": "markdown",
   "id": "bca6f903-58ef-406a-89d8-ede20cdf2653",
   "metadata": {},
   "source": [
    "# DSP Lecture Notes 2: Complex Algebra for Signal Processing\n",
    "$\\text{2023 D.J. Lopez | Digital Signals Processing }$"
   ]
  },
  {
   "cell_type": "code",
   "execution_count": 1,
   "id": "3048385a-3447-4fde-9753-be3e6ec6ee79",
   "metadata": {},
   "outputs": [],
   "source": [
    "import numpy as np\n",
    "import matplotlib.pyplot as plt"
   ]
  },
  {
   "cell_type": "markdown",
   "id": "87750591-cd7b-4d06-a70b-457a0c3016da",
   "metadata": {},
   "source": [
    "## 1. Complex and Imaginary Numbers"
   ]
  },
  {
   "cell_type": "markdown",
   "id": "4a78504c-00fe-4985-891b-9578376a9077",
   "metadata": {},
   "source": [
    "A quick review of imaginary numbers will tell you that the very basic expression is that it is represented by $i$. However, other textbooks may also use $j$. And the imaginary number $i$ can be derived from:\n",
    "$$i = \\sqrt{-1}$$"
   ]
  },
  {
   "cell_type": "markdown",
   "id": "91794f1f-d420-4578-8247-1911a357d738",
   "metadata": {},
   "source": [
    "Complex numbers are part of the complex set $\\mathbb{C}$. Complex numbers contain real and imaginary parts. The real number part could be any rational or irrational number while the imaginary part is composed of imaginary numbers. Say for example we have as scalars $x$, $y$, and $z$ as seen below:\n",
    "$$x = 32, y = i, z = 2 + 5i$$\n",
    "All of $x$, $y$, and $z$ are complex numbers. Whereas $x$ has an expanded form of $32 + 0i$ wherein we just exclude the imaginary part from writing. Scalar $y$, however, has an expanded form of $0 + i$.\n",
    "\n",
    "In Python, we can readily express complex scalars in just a simple declaration"
   ]
  },
  {
   "cell_type": "code",
   "execution_count": 29,
   "id": "8aee4fdb-4b58-4cb6-b5db-051f1d90fb37",
   "metadata": {},
   "outputs": [
    {
     "name": "stdout",
     "output_type": "stream",
     "text": [
      "(32+0j)\t<class 'complex'>\n",
      "1j\t<class 'complex'>\n",
      "(2+5j)\t<class 'complex'>\n"
     ]
    }
   ],
   "source": [
    "x = 32 + 0j\n",
    "y = 0+ 1j\n",
    "z = 2 + 5j\n",
    "\n",
    "print(f'{x}\\t{type(x)}')\n",
    "print(f'{y}\\t{type(y)}')\n",
    "print(f'{z}\\t{type(z)}')"
   ]
  },
  {
   "cell_type": "markdown",
   "id": "224f2b0a-5189-496c-a6a8-56694bc64d1b",
   "metadata": {},
   "source": [
    "Take note that in Python the imaginary number part is represented by $j$ instead of $i$ and should always have a numerical coefficient. We can extract the numerical coefficients of the complex scalar in Python by getting the `real` and `imag` attributes of the variable."
   ]
  },
  {
   "cell_type": "code",
   "execution_count": 3,
   "id": "5d29a460-c186-41cd-aa32-2c939e30ae09",
   "metadata": {},
   "outputs": [
    {
     "name": "stdout",
     "output_type": "stream",
     "text": [
      "32.0 0.0 2.0\n",
      "0.0 1.0 5.0\n"
     ]
    }
   ],
   "source": [
    "print(f'{x.real} {y.real} {z.real}')\n",
    "print(f'{x.imag} {y.imag} {z.imag}')"
   ]
  },
  {
   "cell_type": "markdown",
   "id": "2752e16d-b4df-4b93-a78b-f3406162375a",
   "metadata": {},
   "source": [
    "### 1.1 Addition and Subtraction\n",
    "\n",
    "We must always note that real and imaginary numbers cannot be added (nor subtracted) from or to one another. So when we try to do addition or subtraction with complex numbers we need to align the operation respective of the real and imaginary parts. Let's operate with the following complex scalars:\n",
    "$$a = 2 + 3i, b = 5-i$$"
   ]
  },
  {
   "cell_type": "code",
   "execution_count": 30,
   "id": "e03f7a70-3378-4060-bb8a-a5c4cc9af30e",
   "metadata": {},
   "outputs": [
    {
     "name": "stdout",
     "output_type": "stream",
     "text": [
      "(3+2j)\n",
      "(1-4j)\n"
     ]
    }
   ],
   "source": [
    "a = 1 + 3j\n",
    "b = 2 - 1j\n",
    "\n",
    "print(a + b)\n",
    "print(b - a)"
   ]
  },
  {
   "cell_type": "markdown",
   "id": "ab9464a2-d6ca-4ace-990d-c3ae5973dedb",
   "metadata": {},
   "source": [
    "### 1.2 Multiplication of Complex Numbers\n",
    "\n",
    "Unlike element-wise vectors, multiplication and division of complex numbers are not straightforward. Multiplication treats a complex scalar as a binomial algebraic expression. So if we consider the equation:\n",
    "$$v = a \\cdot b = (1 + 3i)\\cdot(2 - i)$$\n",
    "$$v = 1\\cdot2 + 3i \\cdot 2 + 1\\cdot(-i) - 3i\\cdot i = 2 + 6i-i - 3(-1)$$\n",
    "$$v = 2 -5i +3 = 5 + 5i$$\n",
    "\n",
    "We can then verify this in code:"
   ]
  },
  {
   "cell_type": "code",
   "execution_count": 23,
   "id": "b8eb8cd2-34f4-48de-887d-a521e4a58f7a",
   "metadata": {},
   "outputs": [
    {
     "data": {
      "text/plain": [
       "(5+5j)"
      ]
     },
     "execution_count": 23,
     "metadata": {},
     "output_type": "execute_result"
    }
   ],
   "source": [
    "a*b"
   ]
  },
  {
   "cell_type": "markdown",
   "id": "0122de4d-9587-4b01-9fce-5b36e7a5446c",
   "metadata": {},
   "source": [
    "### 1.3 Division\n",
    "\n",
    "Division of complex numbers requires knowledge of the *conjugate* of complex numbers. The conjugate of a complex number is simply the same complex expression wherein the imaginary part is multiplied to $-1$. For example, given the complex scalar $c = 4+3i$, its complex conjugate $c^*$ will be $4-3i$.\n",
    "\n",
    "\n",
    "To divide two complex scalars $a$ and $b$, we can express them as a fraction $\\frac{a}{b}$. We then need to multiply the numerator and the denominator by the complex conjugate of the denominator ($b^*$). We can see this as:\n",
    "$$a/b = \\frac{a}{b} = \\frac{a}{b} \\cdot \\frac{b^*}{b^*} = \\frac{a\\cdot b^*}{b \\cdot b^*}$$\n",
    "\n",
    "So given our actual values:\n",
    "$$v = \\frac{1+3i}{2-i} = \\frac{1+3i}{2-i}\\cdot \\frac{2+i}{2+i} = \\frac{(1+3i)(2+i)}{(2-i)(2+i)} = \\frac{2+7i+3(-1)}{4-(-1)}$$\n",
    "$$v = \\frac{-1+7i}{5} = -\\frac{1}{5}(1-7i) = -\\frac{1}{5} - (-\\frac{7i}{5}) = -0.2 + 1.4i$$\n",
    "\n",
    "We can then see this in code as:"
   ]
  },
  {
   "cell_type": "code",
   "execution_count": 25,
   "id": "bd3b1baf-fb09-42d5-a09b-e6d49eaec3a5",
   "metadata": {},
   "outputs": [
    {
     "data": {
      "text/plain": [
       "(-0.2+1.4j)"
      ]
     },
     "execution_count": 25,
     "metadata": {},
     "output_type": "execute_result"
    }
   ],
   "source": [
    "a/b"
   ]
  },
  {
   "cell_type": "markdown",
   "id": "94a87e9d-b422-4b9f-b75a-f17a1bd95413",
   "metadata": {},
   "source": [
    "To prove the division solution we just stated let's manually implement the procedure:"
   ]
  },
  {
   "cell_type": "code",
   "execution_count": 28,
   "id": "eadf2f6b-d895-4320-925e-beef2590b088",
   "metadata": {},
   "outputs": [
    {
     "data": {
      "text/plain": [
       "(2+1j)"
      ]
     },
     "execution_count": 28,
     "metadata": {},
     "output_type": "execute_result"
    }
   ],
   "source": [
    "b_conj = b.conjugate()\n",
    "b_conj"
   ]
  },
  {
   "cell_type": "code",
   "execution_count": 30,
   "id": "a473fa8b-d3c6-4ca8-9645-1232a5e026c3",
   "metadata": {},
   "outputs": [
    {
     "name": "stdout",
     "output_type": "stream",
     "text": [
      "(-1+7j)\n",
      "(5+0j)\n"
     ]
    }
   ],
   "source": [
    "num = a*b_conj\n",
    "den = b*b_conj\n",
    "\n",
    "print(num)\n",
    "print(den)"
   ]
  },
  {
   "cell_type": "code",
   "execution_count": 31,
   "id": "97bb23d0-59f9-42a7-9f60-96d5bcc87fdf",
   "metadata": {},
   "outputs": [
    {
     "name": "stdout",
     "output_type": "stream",
     "text": [
      "(-0.2+1.4j)\n"
     ]
    }
   ],
   "source": [
    "v = num/den\n",
    "print(v)"
   ]
  },
  {
   "cell_type": "markdown",
   "id": "f8fa64a9-0aff-4904-9e4c-a96f703cc8eb",
   "metadata": {},
   "source": [
    "### 1.4. Power of Imaginary Numbers\n",
    "\n",
    "We recall in Eq. 2.1 that the identiy of $i$ is $\\sqrt{-1}$. We can infer from this that if we square $\\sqrt{-1}$ we would just get $-1$. Consequently, this also means that $i^2$ is $-1$. The powers of imaginary numbers rotate on the following fundamental identities:\n",
    "\n",
    "| Expression | Identity | \n",
    "| --- | --- |\n",
    "| $i^0$ | $1$ |\n",
    "| $i^1$ | $i =\\sqrt{-1}$ |\n",
    "| $i^2$ | $-1$ |\n",
    "| $i^3$ | $-i$ |\n",
    "| $i^4$ | $1$ |"
   ]
  },
  {
   "cell_type": "markdown",
   "id": "f2e10727-17d1-4acf-a14e-eb632f8edb16",
   "metadata": {},
   "source": [
    "## 2. Visualizing Complex Numbers\n",
    "\n",
    "It is possible to visualize complex numbers even though we have a notion of the \"imaginary\" number space. Complex numbers can be intuitively plotted on a Cartesian plane where we have the real number part on the x-axis and the imaginary number on the y-axis. "
   ]
  },
  {
   "cell_type": "code",
   "execution_count": 25,
   "id": "25a576e3-7a4b-4295-9ce0-dd46a9567efd",
   "metadata": {},
   "outputs": [
    {
     "data": {
      "image/png": "[encoded data removed]",
      "text/plain": [
       "<Figure size 500x500 with 1 Axes>"
      ]
     },
     "metadata": {},
     "output_type": "display_data"
    }
   ],
   "source": [
    "fig, ax = plt.subplots(figsize=(5,5))\n",
    "\n",
    "ax.set_xlabel('Re (Real Part)')\n",
    "ax.set_ylabel('Im (Imaginary Part)')\n",
    "\n",
    "ax.set_xlim((-1,1))\n",
    "ax.set_ylim((-1,1))\n",
    "\n",
    "ax.axhline(color='k')\n",
    "ax.axvline(color='k')\n",
    "ax.grid()"
   ]
  },
  {
   "cell_type": "markdown",
   "id": "c6109f7a-3dcd-4684-88dc-275b44324fb0",
   "metadata": {},
   "source": [
    "We can try to plot the complex scalars $a = 1+3i$ and $b = 2 - i$"
   ]
  },
  {
   "cell_type": "code",
   "execution_count": 67,
   "id": "54910787-e390-4c56-bfff-7f44823c6bc5",
   "metadata": {},
   "outputs": [],
   "source": [
    "def plot_complex(cnumber):\n",
    "    fig, ax = plt.subplots(figsize=(5,5))\n",
    "\n",
    "    x,y = cnumber.real, cnumber.imag\n",
    "\n",
    "    ax.set_title(rf'${x} + {y}i$')\n",
    "    \n",
    "    ax.set_xlabel('Re (Real Part)')\n",
    "    ax.set_ylabel('Im (Imaginary Part)')\n",
    "    \n",
    "    ax.set_xlim((-5,5))\n",
    "    ax.set_ylim((-5,5))\n",
    "    \n",
    "    ax.axhline(color='k')\n",
    "    ax.axvline(color='k')\n",
    "\n",
    "    if y > 0:\n",
    "        ax.vlines(x, 0, y, 'gray', ':')\n",
    "        \n",
    "    else:\n",
    "        ax.vlines(x, y, 0, 'gray', ':')\n",
    "\n",
    "    if x > 0:\n",
    "        ax.hlines(y, 0, x, 'gray', ':')\n",
    "    else:\n",
    "        ax.hlines(y, x, 0, 'gray', ':')\n",
    "    \n",
    "    ax.text(x,y/2,f'({y})')\n",
    "    ax.text(x/2-0.3,y-0.3,f'({x})')\n",
    "    ax.plot(x, y, 'o')\n",
    "    \n",
    "    ax.grid()"
   ]
  },
  {
   "cell_type": "code",
   "execution_count": 69,
   "id": "b8a2508e-a558-4c16-870c-7e528b1a74ee",
   "metadata": {},
   "outputs": [
    {
     "data": {
      "image/png": "[encoded data removed]",
      "text/plain": [
       "<Figure size 500x500 with 1 Axes>"
      ]
     },
     "metadata": {},
     "output_type": "display_data"
    }
   ],
   "source": [
    "plot_complex(a)"
   ]
  },
  {
   "cell_type": "markdown",
   "id": "ef389544-e289-4b0c-b7a0-63fd7f2e9141",
   "metadata": {},
   "source": [
    "## 3. Magnitude and Phases\n",
    "A similar concept between vectors and complex numbers is the concept of magnitude and phase. For brevity, the magnitude of a complex number is represented as $\\mathbf{M}$ while the phase is represented by $\\phi$. "
   ]
  },
  {
   "cell_type": "markdown",
   "id": "76d32ec9-66bd-4658-add8-05297be50888",
   "metadata": {},
   "source": [
    "### 3.1 Magnitude\n",
    "\n",
    "The magnitude of a complex number is similar to the concept of the magnitude or norm of a vector. The magnitude of a complex number can be computed in many ways. In most engineering textbooks, the magnitude of a complex number can be computed by just getting the coefficient of the real number component. But a more general way of computing the magnitude is by applying the Pythagorean theorem (Euclidean Distance) to the real and imaginary number parts of the complex scalar. We can then derive this as:\n",
    "\n",
    "$$\\mathbf{M_{a}} = |1+3i| = \\sqrt{1^2+3^2} = \\sqrt{10}$$"
   ]
  },
  {
   "cell_type": "code",
   "execution_count": 34,
   "id": "9b4ea808-06aa-40d0-b747-1fa63a43428f",
   "metadata": {},
   "outputs": [
    {
     "data": {
      "text/plain": [
       "3.1622776601683795"
      ]
     },
     "execution_count": 34,
     "metadata": {},
     "output_type": "execute_result"
    }
   ],
   "source": [
    "mag_a = np.sqrt(a.real**2 + a.imag**2)\n",
    "mag_a"
   ]
  },
  {
   "cell_type": "markdown",
   "id": "8b7cce23-fd43-4b86-9f97-e9bbf5d8f430",
   "metadata": {},
   "source": [
    "However, when the parameter of the built-in function `abs()` is a `complex` type it automatically computes for its magnitude:  "
   ]
  },
  {
   "cell_type": "code",
   "execution_count": 36,
   "id": "dae48a92-af64-414a-ba29-fdc0dd8664cb",
   "metadata": {},
   "outputs": [
    {
     "data": {
      "text/plain": [
       "3.1622776601683795"
      ]
     },
     "execution_count": 36,
     "metadata": {},
     "output_type": "execute_result"
    }
   ],
   "source": [
    "abs(a)"
   ]
  },
  {
   "cell_type": "markdown",
   "id": "850e1a12-e612-4c9e-83d0-7ae6fae6c420",
   "metadata": {},
   "source": [
    "### 3.2 Phase\n",
    "\n",
    "The phase of the complex number is the angle between the real number and the imaginary number part. A more formal term for the phase or angle of the complex scalar is its argument $\\arg{a}$. We can compute the phase of a complex scalar as:\n",
    "$$\\angle{a} = \\arg{a} = \\arctan(\\frac{a_{imag}}{a_{real}})$$\n",
    "\n",
    "We can then perform this in code:"
   ]
  },
  {
   "cell_type": "code",
   "execution_count": 46,
   "id": "8a3af11f-055e-4558-b367-54422c7af80e",
   "metadata": {},
   "outputs": [
    {
     "data": {
      "text/plain": [
       "1.2490457723982544"
      ]
     },
     "execution_count": 46,
     "metadata": {},
     "output_type": "execute_result"
    }
   ],
   "source": [
    "np.arctan(a.imag/a.real)"
   ]
  },
  {
   "cell_type": "code",
   "execution_count": 47,
   "id": "19078c67-5e1b-4bfb-afe4-5001dc2ebf24",
   "metadata": {},
   "outputs": [
    {
     "data": {
      "text/plain": [
       "1.2490457723982544"
      ]
     },
     "execution_count": 47,
     "metadata": {},
     "output_type": "execute_result"
    }
   ],
   "source": [
    "np.angle(a)"
   ]
  },
  {
   "cell_type": "markdown",
   "id": "69ef96fc-7316-437f-957e-48ced051165b",
   "metadata": {},
   "source": [
    "However, the answer we got is in radians we can easily convert this using `np.rad2deg()`."
   ]
  },
  {
   "cell_type": "code",
   "execution_count": 48,
   "id": "3fa3f631-c03f-41a8-aa21-feaf4b01c850",
   "metadata": {},
   "outputs": [
    {
     "data": {
      "text/plain": [
       "71.56505117707799"
      ]
     },
     "execution_count": 48,
     "metadata": {},
     "output_type": "execute_result"
    }
   ],
   "source": [
    "phi_a = np.angle(a)\n",
    "np.rad2deg(phi_a)"
   ]
  }
 ],
 "metadata": {
  "kernelspec": {
   "display_name": "Python 3 (ipykernel)",
   "language": "python",
   "name": "python3"
  },
  "language_info": {
   "codemirror_mode": {
    "name": "ipython",
    "version": 3
   },
   "file_extension": ".py",
   "mimetype": "text/x-python",
   "name": "python",
   "nbconvert_exporter": "python",
   "pygments_lexer": "ipython3",
   "version": "3.11.3"
  }
 },
 "nbformat": 4,
 "nbformat_minor": 5
}
