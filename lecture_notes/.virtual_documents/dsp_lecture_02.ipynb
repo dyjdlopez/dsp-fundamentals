


import numpy as np
import matplotlib.pyplot as plt











x = 32 + 0j
y = 0+ 1j
z = 2 + 5j

print(f'{x}\t{type(x)}')
print(f'{y}\t{type(y)}')
print(f'{z}\t{type(z)}')





print(f'{x.real} {y.real} {z.real}')
print(f'{x.imag} {y.imag} {z.imag}')





a = 1 + 3j
b = 2 - 1j

print(a + b)
print(b - a)





a*b





a/b





b_conj = b.conjugate()
b_conj


num = a*b_conj
den = b*b_conj

print(num)
print(den)


v = num/den
print(v)








fig, ax = plt.subplots(figsize=(5,5))

ax.set_xlabel('Re (Real Part)')
ax.set_ylabel('Im (Imaginary Part)')

ax.set_xlim((-1,1))
ax.set_ylim((-1,1))

ax.axhline(color='k')
ax.axvline(color='k')
ax.grid()





def plot_complex(cnumber):
    fig, ax = plt.subplots(figsize=(5,5))

    x,y = cnumber.real, cnumber.imag

    ax.set_title(rf'${x} + {y}i$')
    
    ax.set_xlabel('Re (Real Part)')
    ax.set_ylabel('Im (Imaginary Part)')
    
    ax.set_xlim((-5,5))
    ax.set_ylim((-5,5))
    
    ax.axhline(color='k')
    ax.axvline(color='k')

    if y > 0:
        ax.vlines(x, 0, y, 'gray', ':')
        
    else:
        ax.vlines(x, y, 0, 'gray', ':')

    if x > 0:
        ax.hlines(y, 0, x, 'gray', ':')
    else:
        ax.hlines(y, x, 0, 'gray', ':')
    
    ax.text(x,y/2,f'({y})')
    ax.text(x/2-0.3,y-0.3,f'({x})')
    ax.plot(x, y, 'o')
    
    ax.grid()


plot_complex(a)








mag_a = np.sqrt(a.real**2 + a.imag**2)
mag_a





abs(a)





np.arctan(a.imag/a.real)


np.angle(a)





phi_a = np.angle(a)
np.rad2deg(phi_a)
