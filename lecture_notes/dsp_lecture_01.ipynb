{
 "cells": [
  {
   "cell_type": "markdown",
   "id": "78d740de-0ec7-470c-9a53-56b6ccf0622c",
   "metadata": {},
   "source": [
    "# DSP Lecture Notes 1: Linear Algebra for Signal Processing\n",
    "$\\text{2023 D.J. Lopez | Digital Signals Processing }$"
   ]
  },
  {
   "cell_type": "markdown",
   "id": "137b15c3-36a1-4d5b-866b-6a632b0ba89f",
   "metadata": {},
   "source": [
    "Signals are naturally time-sampled values collected from nature or from any physical entity or observation in the real world. Linear Algebra posits a representation scheme for easy computation, manipulation, and modeling for simple to complex signal processes. In this notebook, we try to understand how linear algebra works as a mathematical tool and a computational tool for analysis. Aside from the mathematical concepts for linearity, vectors, and linear transformation, we will also look at how we could model such mathematics in code. \n",
    "\n",
    "An advantage of using software tools for linear algebra or with any applied field of mathematics is that it abstracts the processes or hastens computations so that engineers or scientists can interpret results faster. The use of software-based mathematics could also help develop better intuition in how math works and how it reacts to certain stimuli or as part of a system. In this notebook, we will use Python, specifically the `numpy` library for computation and `matplotlib` for visualization.\n",
    "\n",
    "The rest of the notebook will be structured as follows:\n",
    ">1. [Linearity and Vectors](#1.-Linearity-and-Vectors)\n",
    ">    - [Vectors](#Vectors)\n",
    ">    - [Matrices](#Matrices)\n",
    ">2. [Vector Operations](#2.-Vector-Operations)\n",
    ">    - [Vector Arithmetic](#Vector-Arithmetic)\n",
    ">    - [Transposition](#Transposition)\n",
    ">    - [Inner Product](#Inner-Product)\n",
    ">3. [Vector Norm and Linear Independence](#3.-Vector-Norm-and-Linear-Independence)\n",
    ">4. [Linear Transformations](#4.-Linear-Transformations)\n",
    ">5. [Orthogonality and Normality](#5.-Orthogonality-and-Normality)\n"
   ]
  },
  {
   "cell_type": "markdown",
   "id": "7f255b37-02a5-4e33-9f6c-d2ace4b77881",
   "metadata": {},
   "source": [
    "## 1. Linearity and Vectors\n",
    "\n",
    "The main assumption in linear algebra is that everything that we are working with lines or that we are dealing with the linear properties of an entity in the world. The bottom line is that, in linear algebra, we assume that the objects we are manipulating have a linear component or can be represented by many lines.\n",
    "\n",
    "The first concept that you would need to get a grasp of is the linear combination. It just simply tells you that for a line $y$ it can be described by several properties $x$ that are either scaled or flipped. \n",
    "\n",
    "$$y = a_0x_0 + a_1x_1 + a_2x_2 + ... + a_{n-1}x_{n-1}+ a_nx_n$$ \n",
    "$$_{(\\text{Eq. 1.1})}$$\n",
    "\n",
    "One of the most famous linear combinations is the point-slope formula from elementary Geometry\n",
    "\n",
    "$$y = mx + b$$\n",
    "$$_{(\\text{Eq. 1.2})}$$\n",
    "\n",
    "Where the slope $m$ is a scalar of some value $x$ while the y-intercept $b$ is the scalar of $x=0$ (the origin).\n",
    "\n",
    "The idea of doing linear algebra in code is part of computational programming. We take advantage of the logic and arithmetic of linear algebra and code them to apply the theory. We can immediately see the transformation of data and how they are represented.\n",
    "\n",
    "In this discussion we will be using `numpy` as the main library for computation and `matplotlib` for visualizing the data."
   ]
  },
  {
   "cell_type": "code",
   "execution_count": 2,
   "id": "cbfaf788-38ac-4d14-b6f6-942103d62f79",
   "metadata": {},
   "outputs": [],
   "source": [
    "import numpy as np\n",
    "import matplotlib.pyplot as plt\n",
    "\n",
    "np.random.seed(200) ## we set seed numbers to make sure that randomly generated numbers will be the same for everyone."
   ]
  },
  {
   "cell_type": "code",
   "execution_count": 8,
   "id": "fd844edc-e8b7-4a90-b8ef-7b83c813278b",
   "metadata": {},
   "outputs": [
    {
     "data": {
      "image/png": "[encoded data removed]",
      "text/plain": [
       "<Figure size 640x480 with 1 Axes>"
      ]
     },
     "metadata": {},
     "output_type": "display_data"
    }
   ],
   "source": [
    "# set sum values of x\n",
    "X = [0,1,2,3,4,5,6,7,8,9]\n",
    "\n",
    "## set the slope and intercept\n",
    "m, b = -0.25, 2\n",
    "\n",
    "## determine Y using linear combinations of m and b\n",
    "y = []\n",
    "for x in X:\n",
    "    y.append(m*x + b)\n",
    "\n",
    "plt.plot(X,y, 'bo-')\n",
    "plt.text(\n",
    "    int(len(X)/2),int(b/2), ## x and y coordinates of the text\n",
    "    fr'$y={m}x+{b}$', fontsize=12)\n",
    "\n",
    "plt.xlabel('x')\n",
    "plt.ylabel('y')\n",
    "plt.grid()\n",
    "plt.show()"
   ]
  },
  {
   "cell_type": "markdown",
   "id": "ed39f9c9-5de8-49cd-bccf-0e5c25050605",
   "metadata": {},
   "source": [
    "### Vectors\n",
    "\n",
    "If the linear combination of a $y$ would have too many $x$ values it would be a drag to write them in a long line. A more convenient representation of the linear combination is to represent them as a group of numbers. We now consider the concept of inner products where it is simply the sum of products of scalars and $x$.\n",
    "\n",
    "We first group the scalars and $x$'s by parentheses like so:\n",
    "\n",
    "$$\\hat{a} = \\begin{pmatrix} a_0 \\\\ a_1 \\\\ a_2 \\\\ \\vdots \\\\ a_{n-1} \\\\ a_n \\end{pmatrix}, \\hat{x} = \\begin{pmatrix} x_0 \\\\ x_1 \\\\ x_2 \\\\ \\vdots \\\\ x_{n-1} \\\\ x_n \\end{pmatrix}$$\n",
    "$$_{(\\text{Eq. 1.3})}$$\n",
    "\n",
    "We now call $\\hat{a}$ a vector containing scalars $\\hat{a}$ and $\\hat{x}$ containing $a$'s and $x$'s respectively. We then get the inner product between $\\hat{a}$ and $\\hat{x}$ to produce some vector $y$:\n",
    "\n",
    "$$y = \\hat{a} \\cdot \\hat{x} = \\begin{pmatrix} a_0 \\\\ a_1 \\\\ a_2 \\\\ \\vdots \\\\ a_{n-1} \\\\ a_n \\end{pmatrix} \\cdot \\begin{pmatrix} x_0 \\\\ x_1 \\\\ x_2 \\\\ \\vdots \\\\ x_{n-1} \\\\ x_n \\end{pmatrix} = a_0x_0 + a_1x_1 + a_2x_2 + ... + a_{n-1}x_{n-1} + a_n$$\n",
    "$$_{(\\text{Eq. 1.4})}$$\n",
    "\n",
    "Vectors are the most fundamental concept in linear algebra. Vectors in the computer science aspect are the collection of **scalars** or numbers; or in the mathematical perspective, these are representations of a point in space. We can mathematically represent vectors as:\n",
    "\n",
    "$$\\mathbf{v} = \\begin{pmatrix} a_0 & a_1 & a_2 & ... & a_{n-1} & a_n \\end{pmatrix}$$\n",
    "$$_{(\\text{Eq. 1.5})}$$"
   ]
  },
  {
   "cell_type": "code",
   "execution_count": 3,
   "id": "eeec1346-c961-4ca9-b978-4a59a7d93f45",
   "metadata": {},
   "outputs": [
    {
     "name": "stdout",
     "output_type": "stream",
     "text": [
      "1\n",
      "5\n"
     ]
    }
   ],
   "source": [
    "## Creating a Scalar\n",
    "scalar = 1\n",
    "## in numpy\n",
    "scalar_np = np.array(5)\n",
    "\n",
    "print(scalar)\n",
    "print(scalar_np)"
   ]
  },
  {
   "cell_type": "code",
   "execution_count": 4,
   "id": "f639600e-873f-4237-9f88-fbfaefb3ec72",
   "metadata": {},
   "outputs": [
    {
     "name": "stdout",
     "output_type": "stream",
     "text": [
      "[1 2 3 5 6 7]\n"
     ]
    }
   ],
   "source": [
    "## Creating a vector in numpy\n",
    "vector = np.array([1,2,3,5,6,7])\n",
    "\n",
    "print(vector)"
   ]
  },
  {
   "cell_type": "markdown",
   "id": "9f7757b0-bdaf-48d6-ab6d-6066ac2e5bdf",
   "metadata": {},
   "source": [
    "There are mainly two ways to visualize vectors. The first way is to consider them as line segments, the second is as basis for a continuous line. Let us try to visualize these two ways. For the line segment visualization, this is the usual representation in Physics and engineering for vector analysis. Similar concepts of **vector resultants** are easier to understand in this kind of visualization."
   ]
  },
  {
   "cell_type": "code",
   "execution_count": 21,
   "id": "ac9b6840-6139-4da3-a0a0-52db64d39eab",
   "metadata": {},
   "outputs": [
    {
     "data": {
      "image/png": "[encoded data removed]",
      "text/plain": [
       "<Figure size 640x480 with 1 Axes>"
      ]
     },
     "metadata": {},
     "output_type": "display_data"
    }
   ],
   "source": [
    "v_1 = np.array([-1,0]) ## first vector\n",
    "v_2 = np.array([0,1]) ## second vector\n",
    "\n",
    "plt.title(\"Resultant Vector\")\n",
    "\n",
    "## the quiver plot plots an arrow corresponding to the coordinates\n",
    "plt.quiver(\n",
    "    0,0, \n",
    "    v_1[0], v_1[1], \n",
    "    angles='xy', scale_units='xy',scale=1, \n",
    "    color='red', label=r'$v_1$')\n",
    "## the first quiver's base is at the origin (0,0) and the tip is at the value of the vector (-1,0)\n",
    "\n",
    "plt.quiver(\n",
    "    v_1[0], v_1[1], \n",
    "    v_2[0], v_2[1],\n",
    "    angles='xy', scale_units='xy',scale=1, \n",
    "    color='green', label=r'$v_2$')\n",
    "## the second quiver's base is at the tip of the first vector and the tip is at the value of the second vector plus the first (-1,-1)\n",
    "\n",
    "v_res = v_1+v_2 ## create a resultant vector\n",
    "\n",
    "plt.quiver(\n",
    "    0, 0, \n",
    "    v_res[0], v_res[1],\n",
    "    angles='xy', scale_units='xy',scale=1,\n",
    "    color='orange', label=r'$v_{res}$')\n",
    "## the plot of the resultant vector should point to the tip of the second vector.\n",
    "\n",
    "plt.xlim(-2, 2) ## set the limits of the x-axis\n",
    "plt.ylim(-2, 2) ## set the limits of the y-axis\n",
    "\n",
    "plt.legend()\n",
    "plt.grid() ## show the grid\n",
    "plt.show()"
   ]
  },
  {
   "cell_type": "markdown",
   "id": "ac464219-bc7b-4a57-8aaf-e124bf25d35f",
   "metadata": {},
   "source": [
    "The other way to visualize vectors is to consider **spans**. The span of a vector can be thought of as a line passing through the values of the vector. The span of a vector is considered to be the set of all possible linear combinations of a vector. This can be best represented as:\n",
    "$$\\text{Span}({v}) = c\\cdot \\hat{v}$$\n",
    "Whereas $c$ is a scalar multiplied to the vector $\\hat{v}$ such that $c \\in \\mathbf{R}$. "
   ]
  },
  {
   "cell_type": "code",
   "execution_count": 33,
   "id": "a43333be-d024-4d96-883e-0088f3b32c34",
   "metadata": {},
   "outputs": [
    {
     "data": {
      "image/png": "[encoded data removed]",
      "text/plain": [
       "<Figure size 640x480 with 1 Axes>"
      ]
     },
     "metadata": {},
     "output_type": "display_data"
    }
   ],
   "source": [
    "c = np.arange(-10,10,0.05) ## set of scalars defining the span\n",
    "\n",
    "plt.scatter(c*v_res[0],c*v_res[1], s=4, color='dodgerblue')\n",
    "\n",
    "plt.xlim(-2,2)\n",
    "plt.ylim(-2,2)\n",
    "plt.axhline(y=0, color='k')\n",
    "plt.axvline(x=0, color='k')\n",
    "plt.grid()\n",
    "plt.show()"
   ]
  },
  {
   "cell_type": "markdown",
   "id": "7a4c1acd-b87c-4b1c-99c4-021b7996820a",
   "metadata": {},
   "source": [
    "### Matrices\n",
    "Matrices are collections of scalars that could be represented in a lattice-like arrangement with $m$ rows and $n$ columns. It takes on a form like this:\n",
    "$$\\mathbf{M} = \\begin{pmatrix} a_{00} & a_{01} & a_{02} & ...  & a_{0n} \\\\ a_{10} & a_{11} & a_{12} & ... & a_{1n} \\\\ a_{20} & a_{21} & a_{22} & ... & a_{2n} \\\\ \\vdots & \\vdots & \\vdots & \\ddots & \\vdots\\\\ a_{m0} & a_{m1} & a_{m2} & ... & a_{mn} \\end{pmatrix} $$\n",
    "$$_{(\\text{Eq. 1.6})}$$\n"
   ]
  },
  {
   "cell_type": "code",
   "execution_count": 5,
   "id": "d19b1c26-7af8-4c08-9be4-4e93b9080093",
   "metadata": {},
   "outputs": [
    {
     "data": {
      "text/plain": [
       "array([[ 1,  2,  3],\n",
       "       [ 3,  1,  0],\n",
       "       [-1,  0,  2]])"
      ]
     },
     "execution_count": 5,
     "metadata": {},
     "output_type": "execute_result"
    }
   ],
   "source": [
    "## Creating a Matrix (elements)\n",
    "A = np.array([\n",
    "    [1,2,3],\n",
    "    [3,1,0],\n",
    "    [-1,0,2]\n",
    "])\n",
    "A"
   ]
  },
  {
   "cell_type": "markdown",
   "id": "e771cad2-32c5-439d-a636-3cdea3ec6550",
   "metadata": {},
   "source": [
    "You can also think that matrices are collections of scaled vectors like this:\n",
    "$$\\mathbf{M} = \\begin{pmatrix} a_0 \\cdot v_0 \\\\ a_1 \\cdot v_1 \\\\ \\vdots \\\\ a_n\\cdot v_n \\end{pmatrix}$$\n",
    "$$_{(\\text{Eq. 1.7})}$$"
   ]
  },
  {
   "cell_type": "code",
   "execution_count": 6,
   "id": "ef80367e-2ce4-4de4-a902-9ff14e5ac1f6",
   "metadata": {},
   "outputs": [
    {
     "data": {
      "text/plain": [
       "array([[ 2. ,  4. ,  6. ],\n",
       "       [-3. , -2. , -1. ],\n",
       "       [ 0.5, -0.5, -1. ]])"
      ]
     },
     "execution_count": 6,
     "metadata": {},
     "output_type": "execute_result"
    }
   ],
   "source": [
    "## Creating a Matrix (vectors)\n",
    "v1 = np.array([1,2,3])\n",
    "v2 = np.array([3,2,1])\n",
    "v3 = np.array([1,-1,-2])\n",
    "B = np.array([\n",
    "    2*v1,\n",
    "    -1*v2,\n",
    "    0.5*v3\n",
    "])\n",
    "B"
   ]
  },
  {
   "cell_type": "markdown",
   "id": "bc7efc87-d119-4d6b-a8f8-5dd2087d697a",
   "metadata": {},
   "source": [
    "## 2. Vector Operations\n",
    "\n",
    "Operations on vectors increases the efficiency of computing group of numbers, thus improving signal operations. Vector oprations include arithmetic operations, transposition, and the inner product."
   ]
  },
  {
   "cell_type": "markdown",
   "id": "fbc58711-0ae0-45dd-bf89-c72dcd7d1840",
   "metadata": {},
   "source": [
    "### Vector Arithmetic\n",
    "\n",
    "Vector arithmetic is the most fundamental operation in vector algebra. The operation for arithmetic is done element-wise thus the assumption for such operations is that the vecotrs are of equal shape. The element-wise and scalar arithmetic can be done in Python such as addition, subtraction, multiplication, division, exponentiation, and even other transcendental transformations."
   ]
  },
  {
   "cell_type": "code",
   "execution_count": 34,
   "id": "8e93bac1-55c2-4e51-a23d-ca9debe91f3f",
   "metadata": {},
   "outputs": [],
   "source": [
    "### Element-wise operations\n",
    "A = np.array([\n",
    "    [1,2],\n",
    "    [-1,0]\n",
    "])\n",
    "B = np.array([\n",
    "    [0,1],\n",
    "    [1,0]\n",
    "])"
   ]
  },
  {
   "cell_type": "code",
   "execution_count": 41,
   "id": "81b6c1a0-5346-493d-ab4c-384b6edd97ce",
   "metadata": {},
   "outputs": [
    {
     "name": "stdout",
     "output_type": "stream",
     "text": [
      "A+B: \n",
      "[[5. 6.]\n",
      " [6. 5.]]\n",
      "\n",
      "A-B: \n",
      "[[5. 4.]\n",
      " [4. 5.]]\n",
      "\n"
     ]
    }
   ],
   "source": [
    "## Addition / Subtraction\n",
    "print(f'A+B: \\n{A+B}\\n')\n",
    "print(f'A-B: \\n{A-B}\\n')"
   ]
  },
  {
   "cell_type": "code",
   "execution_count": 43,
   "id": "508151ac-f4cf-468a-9121-9653b04efe4b",
   "metadata": {},
   "outputs": [
    {
     "name": "stdout",
     "output_type": "stream",
     "text": [
      "A x B: \n",
      "[[0. 5.]\n",
      " [5. 0.]]\n",
      "\n",
      "A ./ B: \n",
      "[[inf  5.]\n",
      " [ 5. inf]]\n",
      "\n"
     ]
    },
    {
     "name": "stderr",
     "output_type": "stream",
     "text": [
      "C:\\Users\\Admin\\AppData\\Local\\Temp\\ipykernel_17736\\26389042.py:3: RuntimeWarning: divide by zero encountered in divide\n",
      "  print(f'A ./ B: \\n{A/B}\\n') ## take note this is element-wise division\n"
     ]
    }
   ],
   "source": [
    "## Multiplication / Division\n",
    "print(f'A x B: \\n{A*B}\\n')\n",
    "print(f'A ./ B: \\n{A/B}\\n') ## take note this is element-wise division"
   ]
  },
  {
   "cell_type": "code",
   "execution_count": 35,
   "id": "7768f613-fb22-431a-a500-628ed98d7c29",
   "metadata": {},
   "outputs": [
    {
     "data": {
      "text/plain": [
       "array([[-2,  0],\n",
       "       [-3, -4]])"
      ]
     },
     "execution_count": 35,
     "metadata": {},
     "output_type": "execute_result"
    }
   ],
   "source": [
    "### Scalar operations\n",
    "k = -1\n",
    "A = np.array([\n",
    "    [1,-1],\n",
    "    [2,3]\n",
    "])\n",
    "k-A ## Broadcasting"
   ]
  },
  {
   "cell_type": "code",
   "execution_count": 36,
   "id": "9a2b02ef-718e-423a-9e30-c2d98e20ad38",
   "metadata": {},
   "outputs": [
    {
     "data": {
      "text/plain": [
       "array([[1.60943791, 1.60943791],\n",
       "       [1.60943791, 1.60943791]])"
      ]
     },
     "execution_count": 36,
     "metadata": {},
     "output_type": "execute_result"
    }
   ],
   "source": [
    "### Element-wise vector transformations\n",
    "f = lambda x: np.exp(x)\n",
    "g = lambda x: np.log(x)\n",
    "A = 5*np.ones((2,2))\n",
    "g(A)"
   ]
  },
  {
   "cell_type": "markdown",
   "id": "4ebd2a3b-deae-4518-a408-f3e7e40ca52a",
   "metadata": {},
   "source": [
    "### Transposition\n",
    "The transposition operation flips the matrix along its diagonal. In mathematical terms it will for some matrix $\\mathbf{M}$ its tranposed form will be $\\mathbf{M}^T$:\n",
    "$$\\mathbf{M} = \\begin{pmatrix} a_{00} & a_{01} & a_{02} \\\\ a_{10} & a_{11} & a_{12} \\\\ a_{20} & a_{21} & a_{22}\\end{pmatrix} ; \\mathbf{M}^T = \\begin{pmatrix} a_{00} & a_{10} & a_{20} \\\\ a_{01} & a_{11} & a_{21} \\\\ a_{02} & a_{12} & a_{22}\\end{pmatrix}$$\n",
    "\n",
    "$$_{(\\text{Eq. 1.8})}$$"
   ]
  },
  {
   "cell_type": "code",
   "execution_count": 45,
   "id": "83cf8105-6aa7-48dd-b1aa-bf2e5a04bc1f",
   "metadata": {},
   "outputs": [
    {
     "name": "stdout",
     "output_type": "stream",
     "text": [
      "Original matrix: \n",
      "[[3 4 2]\n",
      " [2 4 3]\n",
      " [3 1 2]]\n",
      "\n",
      "Transposed matrix: \n",
      "[[3 2 3]\n",
      " [4 4 1]\n",
      " [2 3 2]]\n",
      "\n"
     ]
    }
   ],
   "source": [
    "## Transposing a square matrix\n",
    "M = np.random.randint(1,5,(3,3))\n",
    "print(f'Original matrix: \\n{M}\\n')\n",
    "print(f'Transposed matrix: \\n{M.T}\\n')"
   ]
  },
  {
   "cell_type": "code",
   "execution_count": 46,
   "id": "dd0565d1-fa78-4eac-9811-f30648e2c95e",
   "metadata": {},
   "outputs": [
    {
     "name": "stdout",
     "output_type": "stream",
     "text": [
      "Original matrix: \n",
      "[[5 5 5]\n",
      " [3 5 3]\n",
      " [4 5 3]\n",
      " [2 5 4]]\n",
      "\n",
      "Transposed matrix: \n",
      "[[5 3 4 2]\n",
      " [5 5 5 5]\n",
      " [5 3 3 4]]\n",
      "\n"
     ]
    }
   ],
   "source": [
    "## Transposing non-square matrices\n",
    "N = np.random.randint(2,6,(4,3))\n",
    "print(f'Original matrix: \\n{N}\\n')\n",
    "print(f'Transposed matrix: \\n{N.T}\\n')"
   ]
  },
  {
   "cell_type": "code",
   "execution_count": 47,
   "id": "9b5e2496-3b4c-40fb-af74-176eafcdda9a",
   "metadata": {},
   "outputs": [
    {
     "name": "stdout",
     "output_type": "stream",
     "text": [
      "Original vector: \n",
      "[[4]\n",
      " [3]\n",
      " [2]]\n",
      "\n",
      "Transposed vector: \n",
      "[[4 3 2]]\n",
      "\n"
     ]
    }
   ],
   "source": [
    "## Transposing row/column vectors\n",
    "v = np.random.randint(2,6,(3,1))\n",
    "print(f'Original vector: \\n{v}\\n')\n",
    "print(f'Transposed vector: \\n{v.T}\\n')"
   ]
  },
  {
   "cell_type": "markdown",
   "id": "dfd887ce-187d-43fb-a590-7a787c1c7bb5",
   "metadata": {},
   "source": [
    "### Inner Product\r\n",
    "The inner product is one of the most important operations in linear algebra. It solves for the linear combination of the vectors and matrices. The inner product is not always commutative. \r\n",
    "\r\n",
    "The inner product of a matrix can be solved only if the number of columin of the first vector is equal to the number of rows in the second vector. So if the first matrix is $\\mathbf{A}$ has a shape of $(m,n)$ and the second matrix is $\\mathbf{B}$ has a shape of $(i,j)$, then you can perform $AB$ if $n=i$."
   ]
  },
  {
   "cell_type": "markdown",
   "id": "94ed357b-4000-48c4-9a21-8210150cfb64",
   "metadata": {},
   "source": [
    "## 3. Vector Norm and Linear Independence"
   ]
  },
  {
   "cell_type": "markdown",
   "id": "8fcc08f0-6b43-41ab-b87b-380d5f7f1dcf",
   "metadata": {},
   "source": [
    "## 4. Linear Transformations"
   ]
  },
  {
   "cell_type": "markdown",
   "id": "162933bb-95fe-4e3b-84a5-74a823a3319e",
   "metadata": {},
   "source": [
    "## 5. Orthogonality and Normality"
   ]
  },
  {
   "cell_type": "code",
   "execution_count": null,
   "id": "bb2ed415-ce23-4e17-b9cf-d62897b0d4a7",
   "metadata": {},
   "outputs": [],
   "source": []
  }
 ],
 "metadata": {
  "kernelspec": {
   "display_name": "Python 3 (ipykernel)",
   "language": "python",
   "name": "python3"
  },
  "language_info": {
   "codemirror_mode": {
    "name": "ipython",
    "version": 3
   },
   "file_extension": ".py",
   "mimetype": "text/x-python",
   "name": "python",
   "nbconvert_exporter": "python",
   "pygments_lexer": "ipython3",
   "version": "3.11.3"
  }
 },
 "nbformat": 4,
 "nbformat_minor": 5
}
